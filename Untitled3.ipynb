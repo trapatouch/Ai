{
  "nbformat": 4,
  "nbformat_minor": 0,
  "metadata": {
    "colab": {
      "name": "Untitled3.ipynb",
      "provenance": []
    },
    "kernelspec": {
      "name": "python3",
      "display_name": "Python 3"
    },
    "language_info": {
      "name": "python"
    }
  },
  "cells": [
    {
      "cell_type": "code",
      "metadata": {
        "id": "RqhIFyCpmpLl"
      },
      "source": [
        "import math\n",
        "def form():\n",
        "    ch = []\n",
        "    R = input('x = ')\n",
        "    R = R.split(',')\n",
        "    for s in R:\n",
        "        s = int(s)\n",
        "        formule = math.sqrt((2 * 50 * s)/30)\n",
        "        formule = str(int(formule))\n",
        "        ch.append(formule)\n",
        "    ch = ','.join(ch)\n",
        "    return ch"
      ],
      "execution_count": null,
      "outputs": []
    },
    {
      "cell_type": "code",
      "metadata": {
        "id": "K0GIM1oCvv_9"
      },
      "source": [
        "fact=1\n",
        "n=int(input(\"tapez la valeur de n:\"))\n",
        "for i in range(1,n+1):\n",
        "    fact=fact*i\n",
        "    print(fact)"
      ],
      "execution_count": null,
      "outputs": []
    },
    {
      "cell_type": "code",
      "metadata": {
        "id": "wS9rrjvLv5k1"
      },
      "source": [
        "import numpy as np\n",
        "x = np.array([0, 1, 2])\n",
        "y = np.array([2, 1, 0])\n",
        "print(np.cov(x, y))"
      ],
      "execution_count": null,
      "outputs": []
    },
    {
      "cell_type": "code",
      "metadata": {
        "id": "YnR5NSn0v_fi"
      },
      "source": [
        "import numpy as np\n",
        "def tolist(array):\n",
        "    return array.tolist()\n",
        "N = np.array([[1, 2], [3, 4]])\n",
        "print(N)\n",
        "print(type(N))\n",
        "x = N.tolist()\n",
        "print(x)\n",
        "print(type(x))"
      ],
      "execution_count": null,
      "outputs": []
    },
    {
      "cell_type": "code",
      "metadata": {
        "id": "Yo-Ue5MGwKBC"
      },
      "source": [
        "def generate(n):\n",
        "    x=dict()\n",
        "    for i in range(n):\n",
        "        x[i+1]=(i+1)**2\n",
        "    return x\n",
        "x=generate(8)\n",
        "print(x)"
      ],
      "execution_count": null,
      "outputs": []
    },
    {
      "cell_type": "code",
      "metadata": {
        "id": "pUnOVeNIxDJ5"
      },
      "source": [
        "def missing_char(a,b):\n",
        "    if len(a) < b+1 :\n",
        "        return \"unable to reach further that !\"\n",
        "    x = ''\n",
        "    for i in range(len(a)):\n",
        "        if i!= b:\n",
        "            x += a[i]\n",
        "    return x\n",
        "    \n",
        "y = missing_char('kitten', 1)\n",
        "print(y)\n",
        "y = missing_char('kitten', 0) \n",
        "print(y)\n",
        "y = missing_char('kitten', 4)\n",
        "print(y)\n"
      ],
      "execution_count": null,
      "outputs": []
    },
    {
      "cell_type": "code",
      "metadata": {
        "id": "xReN44xLxJx2"
      },
      "source": [
        "\n",
        "for i in range(2000, 3200):\n",
        "    if i%7 == 0 and i%5 != 0:\n",
        "        print(i)\n"
      ],
      "execution_count": null,
      "outputs": []
    }
  ]
}